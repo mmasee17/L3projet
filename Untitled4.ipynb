{
 "cells": [
  {
   "cell_type": "code",
   "execution_count": null,
   "metadata": {},
   "outputs": [],
   "source": [
    "import numpy as np\n",
    "import matplotlib.pyplot as plt\n",
    "from matplotlib.animation import FuncAnimation\n",
    "\n",
    "x_data=[]\n",
    "y_data=[]\n",
    "\n",
    "value=[3, 4, 6, 7, 2, 0, 4, 0, 7, 3]\n",
    "\n",
    "fig, ax= plt.subplots()\n",
    "ax.set_xlim(0, 10)\n",
    "ax.set_ylim(0, 10)\n",
    "\n",
    "line, = ax.plot(0,0)\n",
    "\n",
    "def fonction (i):\n",
    "    x_data.append(i)\n",
    "    y_data.append(value[i])\n",
    "    \n",
    "    \n",
    "    line.set_xdata(x_data)\n",
    "    line.set_ydata(y_data)\n",
    "    return line,\n",
    "\n",
    "animation = FuncAnimation(fig, func=fonction, frames=10, interval=5)\n",
    "\n",
    "plt.show()"
   ]
  }
 ],
 "metadata": {
  "kernelspec": {
   "display_name": "Python 3",
   "language": "python",
   "name": "python3"
  },
  "language_info": {
   "codemirror_mode": {
    "name": "ipython",
    "version": 3
   },
   "file_extension": ".py",
   "mimetype": "text/x-python",
   "name": "python",
   "nbconvert_exporter": "python",
   "pygments_lexer": "ipython3",
   "version": "3.8.2"
  }
 },
 "nbformat": 4,
 "nbformat_minor": 2
}
